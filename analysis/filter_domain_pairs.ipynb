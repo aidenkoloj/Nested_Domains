{
 "cells": [
  {
   "cell_type": "code",
   "execution_count": null,
   "id": "ef73f56f-c7ba-4dda-b09e-f49a2f8e7b03",
   "metadata": {},
   "outputs": [],
   "source": [
    "############\n",
    "#\n",
    "# _____                              _____    ___      _____                     __          __    _     _                _____          _             \n",
    "# / ____| __       __  |   __ |      |  __ \\  /   \\    |  __ \\         __         \\ \\        / /   ( ) | ( )|\\ |  __      / ____| __     ( )    |       \n",
    "#| (___  /  \\|__  /  \\_|_ /  \\|__    | |__) |/  ^  \\   | |  | |     ◠ /  \\ |__     \\ \\  /\\  / /|__  | _|_ | | \\| /  \\    | (___  /  \\|__  | |___|_ __   \n",
    "# \\___ \\|    |  \\| () || |    |  \\   |  ___//  /_\\  \\  | |  | |    | | () ||  \\     \\ \\/  \\/ / |  \\ |  |  | |  || () |    \\___ \\|    |  \\ | |  \\| /__   \n",
    "# ____) |\\__/|    \\__/ |  \\__/|  |   | |   /  _____  \\ | |__| |   ¯T¯ \\__/ |         \\  /\\  /  |    |  |  | |  | \\__/     ____) |\\__/|    | |__/|  __/  \n",
    "#|_____/             \\ |_            |_|  /__/     \\__\\|_____/     |                  \\/  \\/       (_) |_(_)        |    |_____/         (_)|   |_      \n",
    "#                                         |__|     |__|            |                                             \\__/                       |           \n",
    "#                                                                                  \n",
    "###########"
   ]
  },
  {
   "cell_type": "code",
   "execution_count": null,
   "id": "add8ac60-6d7a-4f59-b044-4108ba8280a6",
   "metadata": {},
   "outputs": [],
   "source": [
    "import pandas as pd\n",
    "\n",
    "dfi = pd.read_csv(\"/home/gridsan/akolodziej/01_insert_domains/outputs/parent_insert_duplications.tsv\", sep = '\\t')"
   ]
  },
  {
   "cell_type": "code",
   "execution_count": null,
   "id": "e18bee04-269f-44e4-9b66-ed5ea1ecd09d",
   "metadata": {},
   "outputs": [],
   "source": [
    "########\n",
    "# Script to align insert/parent domains using TM align with and without -cp\n",
    "# Use to see if inserts are cps of parent domains\n",
    "# USE CONDA ENVIRONMENT WITH FOLDCOMP INSTALLED: prog_mod WRITE IN THE RULE USING THIS SCRIPT!!!!!\n",
    "##########\n",
    "\n",
    "import sys\n",
    "import csv\n",
    "import os\n",
    "import pandas as pd\n",
    "import foldcomp\n",
    "from pdbtools.pdb_selres_str import select_residues_from_string\n",
    "sys.path.append('/home/gridsan/akolodziej/TM_tools/')\n",
    "from TM_utils import TM_align"
   ]
  },
  {
   "cell_type": "code",
   "execution_count": null,
   "id": "3ad5c2f2-8cf9-4723-bccc-f491ced33fc2",
   "metadata": {},
   "outputs": [],
   "source": [
    "def convert_boundaries(input_str):\n",
    "    ''' convert boundary str from foldcomp to one that works for pdbtools'''\n",
    "    # Replace underscores with commas and hyphens with colons\n",
    "    result = input_str.replace('_', ',').replace('-', ':')\n",
    "    return result"
   ]
  },
  {
   "cell_type": "code",
   "execution_count": null,
   "id": "34b78f80-17cf-4c20-b801-ae293e86d0f7",
   "metadata": {},
   "outputs": [],
   "source": [
    "data = '/home/gridsan/akolodziej/01_insert_domains/outputs/parent_insert_duplications.tsv'"
   ]
  },
  {
   "cell_type": "code",
   "execution_count": null,
   "id": "52b3df03-4857-4957-82ac-c00ba3ed86f2",
   "metadata": {},
   "outputs": [],
   "source": [
    "out_file = 'parent_insert_CP_scores.tsv'\n",
    "\n",
    "df = pd.read_csv(data, sep ='\\t')"
   ]
  },
  {
   "cell_type": "code",
   "execution_count": null,
   "id": "288aa97d-1fa2-446b-a299-17512edf4798",
   "metadata": {},
   "outputs": [],
   "source": [
    "\n",
    "\n",
    "af_name_bounds = {}\n",
    "# loop through df\n",
    "z = 0\n",
    "for index, row in df.iterrows():\n",
    "    # Get parent_ted field\n",
    "    parent_ted = row['parent_ted']\n",
    "    # Remove the _TED suffix and anything after\n",
    "    af_name = parent_ted.split('_TED')[0]\n",
    "    # Get indices of the domains\n",
    "    parent_bounds = row['parent_boundaries']\n",
    "    insert_bounds = row['insert_boundaries']\n",
    "    # Convert the boundaries to a format that pdbtools can use\n",
    "    parent_bounds_cor = convert_boundaries(parent_bounds)\n",
    "    insert_bounds_cor = convert_boundaries(insert_bounds)\n",
    "    print(f'Parsing {af_name}')\n",
    "    print(f'Corrected bounds for pdbtools parsing: {parent_bounds_cor}, {insert_bounds_cor}')\n",
    "\n",
    "    bounds = [parent_bounds_cor,insert_bounds_cor]\n",
    "    af_name_bounds[af_name] = bounds\n",
    "    # Check to make sure the af_name is within the foldcomp database\n",
    "    # TO DO\n",
    "    # Is af_name within the foldcomp index? if not, continue to next row\n",
    "    # TO DO\n",
    "    # Use foldcomp to get the structure \n",
    "    z+=1\n",
    "    if z == 10:\n",
    "        break\n",
    "\n",
    "names = list(af_name_bounds.keys())"
   ]
  },
  {
   "cell_type": "code",
   "execution_count": null,
   "id": "8b5ed6bf-0526-47fb-8f7a-d1b1cce01846",
   "metadata": {},
   "outputs": [],
   "source": [
    "af_name_bounds['AF-A0A009ENQ2-F1-model_v4'][0]"
   ]
  },
  {
   "cell_type": "code",
   "execution_count": null,
   "id": "8a8e73b6-24e1-4a85-ad55-7f18f5fb8475",
   "metadata": {},
   "outputs": [],
   "source": []
  },
  {
   "cell_type": "code",
   "execution_count": null,
   "id": "762c03d0-b318-43a0-a2ab-25b06b39eac8",
   "metadata": {},
   "outputs": [],
   "source": [
    "        # Extract the two domains from the pdb\n",
    "        # Use pdbtools to parse into domains\n",
    "        parent_domain = select_residues_from_string(pdb, parent_bounds_cor)\n",
    "        insert_domain = select_residues_from_string(pdb, insert_bounds_cor)\n",
    "        # Write the two domains to pdb files\n",
    "        parent_pdb = f'/home/gridsan/akolodziej/01_insert_domains/outputs/pdbs/{af_name}_parent.pdb'\n",
    "        insert_pdb = f'/home/gridsan/akolodziej/01_insert_domains/outputs/pdbs/{af_name}_insert.pdb'\n",
    "        if not os.path.exists(parent_pdb):\n",
    "                with open(parent_pdb, \"w\") as f:\n",
    "                    f.write(parent_domain)\n",
    "        if not os.path.exists(insert_pdb):\n",
    "                with open(insert_pdb, \"w\") as f:\n",
    "                    f.write(insert_domain)"
   ]
  },
  {
   "cell_type": "code",
   "execution_count": null,
   "id": "905868e2-08ec-4dbc-9eba-24b88c831f08",
   "metadata": {},
   "outputs": [],
   "source": []
  },
  {
   "cell_type": "code",
   "execution_count": null,
   "id": "e7c81c97-db7b-4dff-a842-86fa026572e6",
   "metadata": {},
   "outputs": [],
   "source": [
    "df_CATH = dfi[(dfi['insert_cath'] == \"3.40.640.10\")]\n",
    "              #& (dfi['insert_cath'] == \"2.30.42.40\")]\n"
   ]
  },
  {
   "cell_type": "code",
   "execution_count": null,
   "id": "e61f6c19-ef74-4c32-bf2e-19914d400ee6",
   "metadata": {},
   "outputs": [],
   "source": [
    "df_CATH"
   ]
  },
  {
   "cell_type": "code",
   "execution_count": null,
   "id": "04d706b7-6e5b-4b0c-b4cb-adfcf575ae5a",
   "metadata": {},
   "outputs": [],
   "source": []
  },
  {
   "cell_type": "code",
   "execution_count": null,
   "id": "099e80b7-042c-44e5-9fd5-b103d2533a77",
   "metadata": {},
   "outputs": [],
   "source": []
  },
  {
   "cell_type": "code",
   "execution_count": 1,
   "id": "5cfba7dc-e825-4d9e-9355-78246d021c79",
   "metadata": {},
   "outputs": [],
   "source": [
    "import os"
   ]
  },
  {
   "cell_type": "code",
   "execution_count": 2,
   "id": "9e063cb6-c9f5-4a84-a0c3-b009f9d3b551",
   "metadata": {},
   "outputs": [
    {
     "name": "stdout",
     "output_type": "stream",
     "text": [
      "Updated trained_model_fp to: //home/gridsan/akolodziej/progres_link/trained_models/CIRPIN/CIRPIN_model/model_5k_cp_epoch301.pt\n"
     ]
    }
   ],
   "source": [
    "def set_trained_model_fp(model):\n",
    "    '''Function to update progres model'''\n",
    "    if model_name == 'CIRPIN':\n",
    "        os.environ[\"TRAINED_MODEL_FP\"] = \"//home/gridsan/akolodziej/progres_link/trained_models/CIRPIN/CIRPIN_model/model_5k_cp_epoch301.pt\"\n",
    "    if model_name == 'Progres':\n",
    "        os.environ[\"TRAINED_MODEL_FP\"] = \"/home/gridsan/akolodziej/progres_link/trained_models/v_0_2_0/trained_model.pt\"\n",
    "    else:\n",
    "        pass\n",
    "    print(f\"Updated trained_model_fp to: {os.environ['TRAINED_MODEL_FP']}\")\n",
    "\n",
    "\n",
    "## Define model to use:\n",
    "model_name = 'CIRPIN'\n",
    "# Call set trained_model_fp\n",
    "set_trained_model_fp(model_name)"
   ]
  },
  {
   "cell_type": "code",
   "execution_count": 3,
   "id": "3d2a73c0-21db-4b11-b4e4-f427a279d481",
   "metadata": {},
   "outputs": [
    {
     "name": "stderr",
     "output_type": "stream",
     "text": [
      "/home/gridsan/akolodziej/.conda/envs/prog_mod/lib/python3.9/site-packages/tqdm/auto.py:21: TqdmWarning: IProgress not found. Please update jupyter and ipywidgets. See https://ipywidgets.readthedocs.io/en/stable/user_install.html\n",
      "  from .autonotebook import tqdm as notebook_tqdm\n"
     ]
    }
   ],
   "source": [
    "import progres as pg"
   ]
  },
  {
   "cell_type": "code",
   "execution_count": 11,
   "id": "d16f6df8-e4df-4220-834a-07d0800bc9af",
   "metadata": {},
   "outputs": [
    {
     "name": "stdout",
     "output_type": "stream",
     "text": [
      "Using model model_5k_cp_epoch301.pt\n"
     ]
    }
   ],
   "source": [
    "pdb1 = pg.embed_structure('/home/gridsan/akolodziej/A0A4S8SQP1.pdb')"
   ]
  },
  {
   "cell_type": "code",
   "execution_count": 12,
   "id": "3dd9f8dd-de16-4dd5-b155-48474d41e954",
   "metadata": {},
   "outputs": [
    {
     "name": "stdout",
     "output_type": "stream",
     "text": [
      "Using model model_5k_cp_epoch301.pt\n"
     ]
    }
   ],
   "source": [
    "pdb2 = pg.embed_structure('/home/gridsan/akolodziej/A0A1F9ASQ9_insert.pdb')"
   ]
  },
  {
   "cell_type": "code",
   "execution_count": 13,
   "id": "efd599b4-178c-4163-85c3-f5a36de6d3b6",
   "metadata": {},
   "outputs": [],
   "source": [
    "score = pg.embedding_similarity(pdb1,pdb2)"
   ]
  },
  {
   "cell_type": "code",
   "execution_count": 14,
   "id": "848940aa-674f-417c-bbd5-acdf8221e576",
   "metadata": {},
   "outputs": [
    {
     "data": {
      "text/plain": [
       "tensor(0.9299)"
      ]
     },
     "execution_count": 14,
     "metadata": {},
     "output_type": "execute_result"
    }
   ],
   "source": [
    "score"
   ]
  },
  {
   "cell_type": "code",
   "execution_count": null,
   "id": "01fd56df-b0bc-47ed-83a4-95532a78f125",
   "metadata": {},
   "outputs": [],
   "source": [
    "def progres_search_print(querystructure=None, querylist=None, queryembeddings=None, targetdb=None,\n",
    "                         fileformat=\"guess\", minsimilarity=default_minsimilarity,\n",
    "                         maxhits=default_maxhits, chainsaw=False, device=\"cpu\", batch_size=None, trained_model=trained_model_fp):"
   ]
  },
  {
   "cell_type": "code",
   "execution_count": 9,
   "id": "5da35959-e492-43e5-83c8-4f525e197a18",
   "metadata": {},
   "outputs": [
    {
     "name": "stdout",
     "output_type": "stream",
     "text": [
      "TRAINED MODEL //home/gridsan/akolodziej/progres_link/trained_models/CIRPIN/CIRPIN_model/model_5k_cp_epoch301.pt\n",
      "Using model model_5k_cp_epoch301.pt\n"
     ]
    }
   ],
   "source": [
    "search_score = pg.progres_search(queryembeddings=pdb1,\n",
    "                                 targetdb='/home/gridsan/akolodziej/progres_link/databases/ark_scope40_Progres_embed_1_7_25.pt')"
   ]
  },
  {
   "cell_type": "code",
   "execution_count": 10,
   "id": "943e0c39-76f8-47aa-acaf-824c06628530",
   "metadata": {},
   "outputs": [
    {
     "data": {
      "text/plain": [
       "[{'query_num': 1,\n",
       "  'query': '?',\n",
       "  'domain_num': 1,\n",
       "  'domain_size': '?',\n",
       "  'res_range': '?',\n",
       "  'database': '/home/gridsan/akolodziej/progres_link/databases/ark_scope40_Progres_embed_1_7_25.pt',\n",
       "  'minsimilarity': 0.8,\n",
       "  'maxhits': 100,\n",
       "  'domains': [],\n",
       "  'hits_nres': [],\n",
       "  'similarities': [],\n",
       "  'notes': []}]"
      ]
     },
     "execution_count": 10,
     "metadata": {},
     "output_type": "execute_result"
    }
   ],
   "source": [
    "search_score"
   ]
  }
 ],
 "metadata": {
  "kernelspec": {
   "display_name": "prog_mod",
   "language": "python",
   "name": "prog_mod"
  },
  "language_info": {
   "codemirror_mode": {
    "name": "ipython",
    "version": 3
   },
   "file_extension": ".py",
   "mimetype": "text/x-python",
   "name": "python",
   "nbconvert_exporter": "python",
   "pygments_lexer": "ipython3",
   "version": "3.9.19"
  }
 },
 "nbformat": 4,
 "nbformat_minor": 5
}
