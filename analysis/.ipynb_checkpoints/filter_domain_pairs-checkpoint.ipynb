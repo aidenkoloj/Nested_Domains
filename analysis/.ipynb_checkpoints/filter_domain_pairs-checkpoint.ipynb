{
 "cells": [
  {
   "cell_type": "code",
   "execution_count": null,
   "id": "ef73f56f-c7ba-4dda-b09e-f49a2f8e7b03",
   "metadata": {},
   "outputs": [],
   "source": [
    "############\n",
    "#\n",
    "# _____                              _____    ___      _____                     __          __    _     _                _____          _             \n",
    "# / ____| __       __  |   __ |      |  __ \\  /   \\    |  __ \\         __         \\ \\        / /   ( ) | ( )|\\ |  __      / ____| __     ( )    |       \n",
    "#| (___  /  \\|__  /  \\_|_ /  \\|__    | |__) |/  ^  \\   | |  | |     ◠ /  \\ |__     \\ \\  /\\  / /|__  | _|_ | | \\| /  \\    | (___  /  \\|__  | |___|_ __   \n",
    "# \\___ \\|    |  \\| () || |    |  \\   |  ___//  /_\\  \\  | |  | |    | | () ||  \\     \\ \\/  \\/ / |  \\ |  |  | |  || () |    \\___ \\|    |  \\ | |  \\| /__   \n",
    "# ____) |\\__/|    \\__/ |  \\__/|  |   | |   /  _____  \\ | |__| |   ¯T¯ \\__/ |         \\  /\\  /  |    |  |  | |  | \\__/     ____) |\\__/|    | |__/|  __/  \n",
    "#|_____/             \\ |_            |_|  /__/     \\__\\|_____/     |                  \\/  \\/       (_) |_(_)        |    |_____/         (_)|   |_      \n",
    "#                                         |__|     |__|            |                                             \\__/                       |           \n",
    "#                                                                                  \n",
    "###########"
   ]
  },
  {
   "cell_type": "code",
   "execution_count": 57,
   "id": "add8ac60-6d7a-4f59-b044-4108ba8280a6",
   "metadata": {},
   "outputs": [],
   "source": [
    "import pandas as pd\n",
    "\n",
    "dfi = pd.read_csv(\"/home/gridsan/akolodziej/01_insert_domains/outputs/parent_insert_duplications.tsv\", sep = '\\t')"
   ]
  },
  {
   "cell_type": "code",
   "execution_count": 3,
   "id": "e18bee04-269f-44e4-9b66-ed5ea1ecd09d",
   "metadata": {},
   "outputs": [],
   "source": [
    "########\n",
    "# Script to align insert/parent domains using TM align with and without -cp\n",
    "# Use to see if inserts are cps of parent domains\n",
    "# USE CONDA ENVIRONMENT WITH FOLDCOMP INSTALLED: prog_mod WRITE IN THE RULE USING THIS SCRIPT!!!!!\n",
    "##########\n",
    "\n",
    "import sys\n",
    "import csv\n",
    "import os\n",
    "import pandas as pd\n",
    "import foldcomp\n",
    "from pdbtools.pdb_selres_str import select_residues_from_string\n",
    "sys.path.append('/home/gridsan/akolodziej/TM_tools/')\n",
    "from TM_utils import TM_align"
   ]
  },
  {
   "cell_type": "code",
   "execution_count": 8,
   "id": "3ad5c2f2-8cf9-4723-bccc-f491ced33fc2",
   "metadata": {},
   "outputs": [],
   "source": [
    "def convert_boundaries(input_str):\n",
    "    ''' convert boundary str from foldcomp to one that works for pdbtools'''\n",
    "    # Replace underscores with commas and hyphens with colons\n",
    "    result = input_str.replace('_', ',').replace('-', ':')\n",
    "    return result"
   ]
  },
  {
   "cell_type": "code",
   "execution_count": 5,
   "id": "34b78f80-17cf-4c20-b801-ae293e86d0f7",
   "metadata": {},
   "outputs": [],
   "source": [
    "data = '/home/gridsan/akolodziej/01_insert_domains/outputs/parent_insert_duplications.tsv'"
   ]
  },
  {
   "cell_type": "code",
   "execution_count": 6,
   "id": "52b3df03-4857-4957-82ac-c00ba3ed86f2",
   "metadata": {},
   "outputs": [],
   "source": [
    "out_file = 'parent_insert_CP_scores.tsv'\n",
    "\n",
    "df = pd.read_csv(data, sep ='\\t')"
   ]
  },
  {
   "cell_type": "code",
   "execution_count": 10,
   "id": "288aa97d-1fa2-446b-a299-17512edf4798",
   "metadata": {},
   "outputs": [
    {
     "name": "stdout",
     "output_type": "stream",
     "text": [
      "Parsing AF-A0A009ENQ2-F1-model_v4\n",
      "Corrected bounds for pdbtools parsing: 46:125,227:326, 129:219\n",
      "Parsing AF-A0A009EPW1-F1-model_v4\n",
      "Corrected bounds for pdbtools parsing: 5:149,274:345, 162:271\n",
      "Parsing AF-A0A009ERL9-F1-model_v4\n",
      "Corrected bounds for pdbtools parsing: 1:114,244:314, 119:241\n",
      "Parsing AF-A0A009ES82-F1-model_v4\n",
      "Corrected bounds for pdbtools parsing: 134:240,375:435, 249:370\n",
      "Parsing AF-A0A009ESB4-F1-model_v4\n",
      "Corrected bounds for pdbtools parsing: 2:76,312:505, 101:295\n",
      "Parsing AF-A0A009EUG5-F1-model_v4\n",
      "Corrected bounds for pdbtools parsing: 16:74,212:240, 77:209\n",
      "Parsing AF-A0A009EYF7-F1-model_v4\n",
      "Corrected bounds for pdbtools parsing: 38:116,227:274, 118:221\n",
      "Parsing AF-A0A009F1V5-F1-model_v4\n",
      "Corrected bounds for pdbtools parsing: 152:245,405:472, 248:402\n",
      "Parsing AF-A0A009F591-F1-model_v4\n",
      "Corrected bounds for pdbtools parsing: 1:32,164:253, 34:160\n",
      "Parsing AF-A0A009F5Q8-F1-model_v4\n",
      "Corrected bounds for pdbtools parsing: 201:326,453:520, 343:450\n"
     ]
    }
   ],
   "source": [
    "\n",
    "\n",
    "af_name_bounds = {}\n",
    "# loop through df\n",
    "z = 0\n",
    "for index, row in df.iterrows():\n",
    "    # Get parent_ted field\n",
    "    parent_ted = row['parent_ted']\n",
    "    # Remove the _TED suffix and anything after\n",
    "    af_name = parent_ted.split('_TED')[0]\n",
    "    # Get indices of the domains\n",
    "    parent_bounds = row['parent_boundaries']\n",
    "    insert_bounds = row['insert_boundaries']\n",
    "    # Convert the boundaries to a format that pdbtools can use\n",
    "    parent_bounds_cor = convert_boundaries(parent_bounds)\n",
    "    insert_bounds_cor = convert_boundaries(insert_bounds)\n",
    "    print(f'Parsing {af_name}')\n",
    "    print(f'Corrected bounds for pdbtools parsing: {parent_bounds_cor}, {insert_bounds_cor}')\n",
    "\n",
    "    bounds = [parent_bounds_cor,insert_bounds_cor]\n",
    "    af_name_bounds[af_name] = bounds\n",
    "    # Check to make sure the af_name is within the foldcomp database\n",
    "    # TO DO\n",
    "    # Is af_name within the foldcomp index? if not, continue to next row\n",
    "    # TO DO\n",
    "    # Use foldcomp to get the structure \n",
    "    z+=1\n",
    "    if z == 10:\n",
    "        break\n",
    "\n",
    "names = list(af_name_bounds.keys())"
   ]
  },
  {
   "cell_type": "code",
   "execution_count": 14,
   "id": "8b5ed6bf-0526-47fb-8f7a-d1b1cce01846",
   "metadata": {},
   "outputs": [
    {
     "data": {
      "text/plain": [
       "'46:125,227:326'"
      ]
     },
     "execution_count": 14,
     "metadata": {},
     "output_type": "execute_result"
    }
   ],
   "source": [
    "af_name_bounds['AF-A0A009ENQ2-F1-model_v4'][0]"
   ]
  },
  {
   "cell_type": "code",
   "execution_count": null,
   "id": "8a8e73b6-24e1-4a85-ad55-7f18f5fb8475",
   "metadata": {},
   "outputs": [],
   "source": []
  },
  {
   "cell_type": "code",
   "execution_count": 10,
   "id": "762c03d0-b318-43a0-a2ab-25b06b39eac8",
   "metadata": {},
   "outputs": [
    {
     "name": "stdout",
     "output_type": "stream",
     "text": [
      "AF-A0A009ENQ2-F1-model_v4\n",
      "46-125_227-326\n",
      "46:125,227:326\n",
      "AF-A0A009EPW1-F1-model_v4\n",
      "5-149_274-345\n",
      "5:149,274:345\n",
      "AF-A0A009ERL9-F1-model_v4\n",
      "1-114_244-314\n",
      "1:114,244:314\n",
      "AF-A0A009ES82-F1-model_v4\n",
      "134-240_375-435\n",
      "134:240,375:435\n",
      "AF-A0A009ESB4-F1-model_v4\n",
      "2-76_312-505\n",
      "2:76,312:505\n",
      "AF-A0A009EUG5-F1-model_v4\n",
      "16-74_212-240\n",
      "16:74,212:240\n",
      "AF-A0A009EYF7-F1-model_v4\n",
      "38-116_227-274\n",
      "38:116,227:274\n",
      "AF-A0A009F1V5-F1-model_v4\n",
      "152-245_405-472\n",
      "152:245,405:472\n",
      "AF-A0A009F591-F1-model_v4\n",
      "1-32_164-253\n",
      "1:32,164:253\n",
      "AF-A0A009F5Q8-F1-model_v4\n",
      "201-326_453-520\n",
      "201:326,453:520\n"
     ]
    }
   ],
   "source": [
    "        # Extract the two domains from the pdb\n",
    "        # Use pdbtools to parse into domains\n",
    "        parent_domain = select_residues_from_string(pdb, parent_bounds_cor)\n",
    "        insert_domain = select_residues_from_string(pdb, insert_bounds_cor)\n",
    "        # Write the two domains to pdb files\n",
    "        parent_pdb = f'/home/gridsan/akolodziej/01_insert_domains/outputs/pdbs/{af_name}_parent.pdb'\n",
    "        insert_pdb = f'/home/gridsan/akolodziej/01_insert_domains/outputs/pdbs/{af_name}_insert.pdb'\n",
    "        if not os.path.exists(parent_pdb):\n",
    "                with open(parent_pdb, \"w\") as f:\n",
    "                    f.write(parent_domain)\n",
    "        if not os.path.exists(insert_pdb):\n",
    "                with open(insert_pdb, \"w\") as f:\n",
    "                    f.write(insert_domain)"
   ]
  },
  {
   "cell_type": "code",
   "execution_count": null,
   "id": "905868e2-08ec-4dbc-9eba-24b88c831f08",
   "metadata": {},
   "outputs": [],
   "source": []
  },
  {
   "cell_type": "code",
   "execution_count": 61,
   "id": "e7c81c97-db7b-4dff-a842-86fa026572e6",
   "metadata": {},
   "outputs": [],
   "source": [
    "df_CATH = dfi[(dfi['insert_cath'] == \"3.40.640.10\")]\n",
    "              #& (dfi['insert_cath'] == \"2.30.42.40\")]\n"
   ]
  },
  {
   "cell_type": "code",
   "execution_count": 62,
   "id": "e61f6c19-ef74-4c32-bf2e-19914d400ee6",
   "metadata": {},
   "outputs": [
    {
     "data": {
      "text/html": [
       "<div>\n",
       "<style scoped>\n",
       "    .dataframe tbody tr th:only-of-type {\n",
       "        vertical-align: middle;\n",
       "    }\n",
       "\n",
       "    .dataframe tbody tr th {\n",
       "        vertical-align: top;\n",
       "    }\n",
       "\n",
       "    .dataframe thead th {\n",
       "        text-align: right;\n",
       "    }\n",
       "</style>\n",
       "<table border=\"1\" class=\"dataframe\">\n",
       "  <thead>\n",
       "    <tr style=\"text-align: right;\">\n",
       "      <th></th>\n",
       "      <th>uniprot_id</th>\n",
       "      <th>parent_ted</th>\n",
       "      <th>parent_boundaries</th>\n",
       "      <th>parent_cath</th>\n",
       "      <th>insert_ted</th>\n",
       "      <th>insert_boundaries</th>\n",
       "      <th>insert_cath</th>\n",
       "    </tr>\n",
       "  </thead>\n",
       "  <tbody>\n",
       "    <tr>\n",
       "      <th>227998</th>\n",
       "      <td>A0A562EQ65</td>\n",
       "      <td>AF-A0A562EQ65-F1-model_v4_TED01</td>\n",
       "      <td>13-46_281-381</td>\n",
       "      <td>3.40.640.10</td>\n",
       "      <td>AF-A0A562EQ65-F1-model_v4_TED02</td>\n",
       "      <td>61-278</td>\n",
       "      <td>3.40.640.10</td>\n",
       "    </tr>\n",
       "    <tr>\n",
       "      <th>252149</th>\n",
       "      <td>A0A6I0EK83</td>\n",
       "      <td>AF-A0A6I0EK83-F1-model_v4_TED01</td>\n",
       "      <td>2-64_303-405</td>\n",
       "      <td>3.40.640.10</td>\n",
       "      <td>AF-A0A6I0EK83-F1-model_v4_TED02</td>\n",
       "      <td>67-299</td>\n",
       "      <td>3.40.640.10</td>\n",
       "    </tr>\n",
       "  </tbody>\n",
       "</table>\n",
       "</div>"
      ],
      "text/plain": [
       "        uniprot_id                       parent_ted parent_boundaries  \\\n",
       "227998  A0A562EQ65  AF-A0A562EQ65-F1-model_v4_TED01     13-46_281-381   \n",
       "252149  A0A6I0EK83  AF-A0A6I0EK83-F1-model_v4_TED01      2-64_303-405   \n",
       "\n",
       "        parent_cath                       insert_ted insert_boundaries  \\\n",
       "227998  3.40.640.10  AF-A0A562EQ65-F1-model_v4_TED02            61-278   \n",
       "252149  3.40.640.10  AF-A0A6I0EK83-F1-model_v4_TED02            67-299   \n",
       "\n",
       "        insert_cath  \n",
       "227998  3.40.640.10  \n",
       "252149  3.40.640.10  "
      ]
     },
     "execution_count": 62,
     "metadata": {},
     "output_type": "execute_result"
    }
   ],
   "source": [
    "df_CATH"
   ]
  },
  {
   "cell_type": "code",
   "execution_count": null,
   "id": "04d706b7-6e5b-4b0c-b4cb-adfcf575ae5a",
   "metadata": {},
   "outputs": [],
   "source": []
  },
  {
   "cell_type": "code",
   "execution_count": null,
   "id": "099e80b7-042c-44e5-9fd5-b103d2533a77",
   "metadata": {},
   "outputs": [],
   "source": []
  }
 ],
 "metadata": {
  "kernelspec": {
   "display_name": "prog_mod",
   "language": "python",
   "name": "prog_mod"
  },
  "language_info": {
   "codemirror_mode": {
    "name": "ipython",
    "version": 3
   },
   "file_extension": ".py",
   "mimetype": "text/x-python",
   "name": "python",
   "nbconvert_exporter": "python",
   "pygments_lexer": "ipython3",
   "version": "3.9.19"
  }
 },
 "nbformat": 4,
 "nbformat_minor": 5
}
